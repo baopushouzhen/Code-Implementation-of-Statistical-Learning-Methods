{
 "cells": [
  {
   "cell_type": "code",
   "execution_count": 14,
   "id": "f3d33e98",
   "metadata": {},
   "outputs": [
    {
     "name": "stdout",
     "output_type": "stream",
     "text": [
      "Predicted class: class1\n"
     ]
    }
   ],
   "source": [
    "from collections import defaultdict\n",
    "\n",
    "class NaiveBayes:\n",
    "\n",
    "    def __init__(self):\n",
    "        self.class_probabilities = defaultdict(int)\n",
    "        self.feature_counts = defaultdict(lambda: defaultdict(lambda: defaultdict(int)))\n",
    "\n",
    "    def train(self, X, y):\n",
    "        for features, label in zip(X, y):\n",
    "            self.class_probabilities[label] += 1\n",
    "            for feature, value in features.items():\n",
    "                \n",
    "                self.feature_counts[feature][value][label] += 1\n",
    "\n",
    "    def predict(self, x):\n",
    "        max_prob = 0\n",
    "        best_label = None\n",
    "        for label in self.class_probabilities:\n",
    "            prob = self.class_probabilities[label]\n",
    "            for feature, value in x.items():\n",
    "                num_values = len(self.feature_counts[feature])\n",
    "                v = 1\n",
    "                if value in self.feature_counts[feature]:\n",
    "                    prob *= (self.feature_counts[feature][value][label] + v) / (self.class_probabilities[label] + v * num_values)\n",
    "            if prob > max_prob:\n",
    "                max_prob = prob\n",
    "                best_label = label\n",
    "        return best_label\n",
    "\n",
    "# 示例用法\n",
    "nb = NaiveBayes()\n",
    "X = [{'age': 'young', 'job': 'student'}, {'age': 'middle_aged', 'job': 'teacher'}]\n",
    "y = ['class1', 'class2']\n",
    "nb.train(X, y)\n",
    " \n",
    "new_data = {'age': 'young', 'job': 'teacher'}\n",
    "prediction = nb.predict(new_data)\n",
    "print(\"Predicted class:\", prediction)\n",
    "\n"
   ]
  },
  {
   "cell_type": "code",
   "execution_count": null,
   "id": "78952d1f",
   "metadata": {},
   "outputs": [],
   "source": []
  }
 ],
 "metadata": {
  "kernelspec": {
   "display_name": "py39",
   "language": "python",
   "name": "py39"
  },
  "language_info": {
   "codemirror_mode": {
    "name": "ipython",
    "version": 3
   },
   "file_extension": ".py",
   "mimetype": "text/x-python",
   "name": "python",
   "nbconvert_exporter": "python",
   "pygments_lexer": "ipython3",
   "version": "3.9.18"
  }
 },
 "nbformat": 4,
 "nbformat_minor": 5
}
