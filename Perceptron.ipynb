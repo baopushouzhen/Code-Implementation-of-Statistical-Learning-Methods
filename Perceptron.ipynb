{
 "cells": [
  {
   "cell_type": "code",
   "execution_count": 1,
   "id": "2d93a239",
   "metadata": {},
   "outputs": [
    {
     "name": "stdout",
     "output_type": "stream",
     "text": [
      "-1.0\n"
     ]
    }
   ],
   "source": [
    "import numpy as np\n",
    "\n",
    "class Perceptron:\n",
    "    def __init__(self, learning_rate=0.1):\n",
    "        self.learning_rate = learning_rate\n",
    "        self.weights = None\n",
    "        self.bias = 0\n",
    "\n",
    "    def predict(self, X):\n",
    "        return np.sign(np.dot(X, self.weights) + self.bias)\n",
    "\n",
    "    def fit(self, X, y):\n",
    "        self.weights = np.zeros(X.shape[1])\n",
    "        converged = False\n",
    "        while not converged:\n",
    "            converged = True\n",
    "            for i in range(X.shape[0]):\n",
    "                if y[i] * self.predict(X[i]) <= 0:\n",
    "                    self.weights += self.learning_rate * y[i] * X[i]\n",
    "                    self.bias += self.learning_rate * y[i]\n",
    "                    converged = False\n",
    "\n",
    "        return 'Perceptron Model trained successfully!'\n",
    "\n",
    "# 示例用法 \n",
    "X_train = np.array([[1, 2], [2, 3], [3, 4], [4, 5]])\n",
    "y_train = np.array([1, 1, -1, -1])\n",
    "\n",
    "model = Perceptron(learning_rate=0.1)\n",
    "model.fit(X_train, y_train)\n",
    "\n",
    "print(model.predict(np.array([5, 6])))\n"
   ]
  },
  {
   "cell_type": "code",
   "execution_count": null,
   "id": "6131107d",
   "metadata": {},
   "outputs": [],
   "source": []
  }
 ],
 "metadata": {
  "kernelspec": {
   "display_name": "py39",
   "language": "python",
   "name": "py39"
  },
  "language_info": {
   "codemirror_mode": {
    "name": "ipython",
    "version": 3
   },
   "file_extension": ".py",
   "mimetype": "text/x-python",
   "name": "python",
   "nbconvert_exporter": "python",
   "pygments_lexer": "ipython3",
   "version": "3.9.18"
  }
 },
 "nbformat": 4,
 "nbformat_minor": 5
}
