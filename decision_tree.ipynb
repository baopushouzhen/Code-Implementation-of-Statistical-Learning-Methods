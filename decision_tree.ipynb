{
 "cells": [
  {
   "cell_type": "code",
   "execution_count": 6,
   "id": "21d9f958",
   "metadata": {},
   "outputs": [],
   "source": [
    "import numpy as np\n",
    "import pandas as pd\n",
    "import matplotlib.pyplot as plt\n",
    "%matplotlib inline\n",
    "\n",
    "from sklearn.datasets import load_iris\n",
    "from sklearn.model_selection import train_test_split\n",
    "from collections import Counter\n",
    "import math\n",
    "from math import log\n",
    "import pprint"
   ]
  },
  {
   "cell_type": "code",
   "execution_count": 7,
   "id": "f4c1dd72",
   "metadata": {},
   "outputs": [],
   "source": [
    "def create_data():\n",
    "    datasets = [['青年', '否', '否', '一般', '否'],\n",
    "               ['青年', '否', '否', '好', '否'],\n",
    "               ['青年', '是', '否', '好', '是'],\n",
    "               ['青年', '是', '是', '一般', '是'],\n",
    "               ['青年', '否', '否', '一般', '否'],\n",
    "               ['中年', '否', '否', '一般', '否'],\n",
    "               ['中年', '否', '否', '好', '否'],\n",
    "               ['中年', '是', '是', '好', '是'],\n",
    "               ['中年', '否', '是', '非常好', '是'],\n",
    "               ['中年', '否', '是', '非常好', '是'],\n",
    "               ['老年', '否', '是', '非常好', '是'],\n",
    "               ['老年', '否', '是', '好', '是'],\n",
    "               ['老年', '是', '否', '好', '是'],\n",
    "               ['老年', '是', '否', '非常好', '是'],\n",
    "               ['老年', '否', '否', '一般', '否'],\n",
    "               ]\n",
    "    labels = ['age', 'whether_job', 'whether_house', 'credit', 'category']\n",
    "    # 返回数据集和每个维度的名称\n",
    "    return datasets, labels"
   ]
  },
  {
   "cell_type": "code",
   "execution_count": 8,
   "id": "857317b3",
   "metadata": {},
   "outputs": [
    {
     "name": "stdout",
     "output_type": "stream",
     "text": [
      "   age whether_job whether_house credit category\n",
      "0   青年           否             否     一般        否\n",
      "1   青年           否             否      好        否\n",
      "2   青年           是             否      好        是\n",
      "3   青年           是             是     一般        是\n",
      "4   青年           否             否     一般        否\n",
      "5   中年           否             否     一般        否\n",
      "6   中年           否             否      好        否\n",
      "7   中年           是             是      好        是\n",
      "8   中年           否             是    非常好        是\n",
      "9   中年           否             是    非常好        是\n",
      "10  老年           否             是    非常好        是\n",
      "11  老年           否             是      好        是\n",
      "12  老年           是             否      好        是\n",
      "13  老年           是             否    非常好        是\n",
      "14  老年           否             否     一般        否\n",
      "category\n",
      "是    9\n",
      "否    6\n",
      "Name: count, dtype: int64\n"
     ]
    }
   ],
   "source": [
    "datasets , labels = create_data()\n",
    "train_data = pd.DataFrame(datasets,columns = labels)\n",
    "print(train_data)\n",
    "value_count = train_data['category'].value_counts()\n",
    "print(value_count)"
   ]
  },
  {
   "cell_type": "code",
   "execution_count": 9,
   "id": "9bd02bdf",
   "metadata": {},
   "outputs": [
    {
     "data": {
      "text/plain": [
       "0.9709505944546686"
      ]
     },
     "execution_count": 9,
     "metadata": {},
     "output_type": "execute_result"
    }
   ],
   "source": [
    "#计算熵\n",
    "def calc_entropy(train_data):\n",
    "    \n",
    "    value_count = train_data['category'].value_counts()\n",
    "    data_sum = value_count.sum()\n",
    "    entropy = - sum((i/data_sum)*log(i/data_sum,2) if i != 0 else 0 for i in value_count)\n",
    "    return entropy\n",
    "calc_entropy(train_data)\n"
   ]
  },
  {
   "cell_type": "code",
   "execution_count": 10,
   "id": "7711b9d6",
   "metadata": {},
   "outputs": [],
   "source": [
    "#计算条件熵\n",
    "def calc_condition_entropy(train_data):\n",
    "    condition_entropy = {}\n",
    "    for i, feature in enumerate(train_data.columns):\n",
    "        if feature == 'category':\n",
    "            continue\n",
    "        feature_count = []\n",
    "        df_categories = train_data[feature].unique()\n",
    "        value_count = train_data[feature].value_counts()\n",
    "        for category in df_categories:\n",
    "            df = train_data\n",
    "            category_rows = df[df[feature] == category]\n",
    "            category_num = len(category_rows)\n",
    "            a = category_num/len(train_data)*calc_entropy(category_rows)\n",
    "            feature_count.append(a)\n",
    "        feature_entropy = sum(feature_count)\n",
    "        condition_entropy[feature] = feature_entropy\n",
    "    return condition_entropy\n",
    "        \n",
    "        \n",
    "        \n",
    "            \n",
    "            \n",
    "            \n",
    "    \n",
    "            \n",
    "        \n",
    "        \n",
    "        "
   ]
  },
  {
   "cell_type": "code",
   "execution_count": 11,
   "id": "2627fe25",
   "metadata": {},
   "outputs": [
    {
     "data": {
      "text/plain": [
       "{'age': 0.8879430945988998,\n",
       " 'whether_job': 0.6473003963031123,\n",
       " 'whether_house': 0.5509775004326937,\n",
       " 'credit': 0.6079610319175832}"
      ]
     },
     "execution_count": 11,
     "metadata": {},
     "output_type": "execute_result"
    }
   ],
   "source": [
    "calc_condition_entropy(train_data)"
   ]
  },
  {
   "cell_type": "code",
   "execution_count": 12,
   "id": "6e3426ab",
   "metadata": {},
   "outputs": [],
   "source": [
    "# 信息增益\n",
    "def info_gain(train_data):\n",
    "    info_gain = {}\n",
    "    entropy = calc_entropy(train_data)\n",
    "    condition_entropy = calc_condition_entropy(train_data)\n",
    "    for key,value in condition_entropy.items():\n",
    "        \n",
    "        feature_info_gain = entropy - value\n",
    "        info_gain[key] = feature_info_gain\n",
    "    key_with_min_value = max(info_gain, key=info_gain.get)\n",
    "    min_value = max(info_gain.values())\n",
    " \n",
    "        \n",
    "    return info_gain , '特征({})的信息增益最大，选择为根节点特征'.format(key_with_min_value)"
   ]
  },
  {
   "cell_type": "code",
   "execution_count": 13,
   "id": "6a4d2932",
   "metadata": {},
   "outputs": [
    {
     "data": {
      "text/plain": [
       "({'age': 0.08300749985576883,\n",
       "  'whether_job': 0.32365019815155627,\n",
       "  'whether_house': 0.4199730940219749,\n",
       "  'credit': 0.36298956253708536},\n",
       " '特征(whether_house)的信息增益最大，选择为根节点特征')"
      ]
     },
     "execution_count": 13,
     "metadata": {},
     "output_type": "execute_result"
    }
   ],
   "source": [
    "info_gain(train_data)"
   ]
  },
  {
   "cell_type": "code",
   "execution_count": 14,
   "id": "21e5b536",
   "metadata": {},
   "outputs": [],
   "source": [
    "# 定义节点类 二叉树\n",
    "class Node:\n",
    "    def __init__(self, root=True, label=None, feature_name=None):\n",
    "        self.root = root\n",
    "        self.label = label\n",
    "        self.feature_name = feature_name\n",
    "        self.feature = feature\n",
    "        self.tree = {}\n",
    "        self.result = {\n",
    "            'label:': self.label,\n",
    "            'feature': self.feature,\n",
    "            'tree': self.tree\n",
    "        }\n",
    "\n",
    "    def __repr__(self):\n",
    "        return '{}'.format(self.result)\n",
    "\n",
    "    def add_node(self, val, node):\n",
    "        self.tree[val] = node\n",
    "\n",
    "    def predict(self, features):\n",
    "        if self.root is True:\n",
    "            return self.label\n",
    "        return self.tree[features[self.feature]].predict(features)"
   ]
  },
  {
   "cell_type": "code",
   "execution_count": 38,
   "id": "8cc82e59",
   "metadata": {},
   "outputs": [],
   "source": [
    "#\n",
    "class D_Tree():\n",
    "    def __init__(self,epsilon =  0.01):\n",
    "        self.epsilon = epsilon\n",
    "        self._tree = {}\n",
    "    @staticmethod\n",
    "    #计算熵\n",
    "    def calc_entropy(train_data):\n",
    "        \n",
    "    \n",
    "        value_count = train_data['category'].value_counts()\n",
    "        data_sum = value_count.sum()\n",
    "        entropy = - sum((i/data_sum)*log(i/data_sum,2) if i != 0 else 0 for i in value_count)\n",
    "        return entropy\n",
    "     \n",
    "    #计算条件熵\n",
    "    def calc_condition_entropy(train_data):\n",
    "        condition_entropy = {}\n",
    "        for i, feature in enumerate(train_data.columns):\n",
    "            if feature == 'category':\n",
    "                continue\n",
    "            feature_count = []\n",
    "            df_categories = train_data[feature].unique()\n",
    "            value_count = train_data[feature].value_counts()\n",
    "            for category in df_categories:\n",
    "                df = train_data\n",
    "                category_rows = df[df[feature] == category]\n",
    "                category_num = len(category_rows)\n",
    "                a = category_num/len(train_data)*calc_entropy(category_rows)\n",
    "                feature_count.append(a)\n",
    "                feature_entropy = sum(feature_count)\n",
    "                condition_entropy[feature] = feature_entropy\n",
    "        return condition_entropy\n",
    "    # 信息增益\n",
    "    def info_gain(self,train_data):\n",
    "        info_gain_ = {}\n",
    "        entropy = calc_entropy(train_data)\n",
    "        condition_entropy = calc_condition_entropy(train_data)\n",
    "        for key,value in condition_entropy.items():\n",
    "        \n",
    "            feature_info_gain = entropy - value\n",
    "            info_gain_[key] = feature_info_gain\n",
    "        best_feature = max(info_gain_, key=info_gain_.get)\n",
    "        best_feature_info_gain = max(info_gain_.values())\n",
    " \n",
    "        \n",
    "        return best_feature,best_feature_info_gain\n",
    "    def train(self, train_data):\n",
    "        \"\"\"\n",
    "        input:数据集D(DataFrame格式)，特征集A，阈值eta\n",
    "        output:决策树T\n",
    "        \"\"\"\n",
    "        x_train, y_train, features = train_data.iloc[:, :\n",
    "                                               -1], train_data.iloc[:,\n",
    "                                                                    -1], train_data.columns[:\n",
    "                                                                                            -1]\n",
    "        # 1,若D中实例属于同一类Ck，则T为单节点树，并将类Ck作为结点的类标记，返回T\n",
    "        if len(y_train.value_counts()) == 1:\n",
    "            return Node(root=True, label=y_train.iloc[0])\n",
    "\n",
    "        # 2, 若A为空，则T为单节点树，将D中实例树最大的类Ck作为该节点的类标记，返回T\n",
    "        if len(features) == 0:\n",
    "            return Node(\n",
    "                root=True,\n",
    "                label=y_train.value_counts().sort_values(\n",
    "                    ascending=False).index[0])\n",
    "\n",
    "        # 3,计算最大信息增益 同5.1,Ag为信息增益最大的特征\n",
    "        best_feature, best_feature_info_gain = self.info_gain(train_data)\n",
    "        \n",
    "\n",
    "        # 4,Ag的信息增益小于阈值eta,则置T为单节点树，并将D中是实例数最大的类Ck作为该节点的类标记，返回T\n",
    "        if best_feature_info_gain < self.epsilon:\n",
    "            return Node(\n",
    "                root=True,\n",
    "                label=y_train.value_counts().sort_values(\n",
    "                    ascending=False).index[0])\n",
    "\n",
    "        # 5,构建Ag子集\n",
    "        node_tree = Node(\n",
    "            root=False, feature_name=best_feature)\n",
    "\n",
    "        feature_list = train_data[best_feature].value_counts().index\n",
    "        for f in feature_list:\n",
    "            sub_train_df = train_data.loc[train_data[best_feature] ==\n",
    "                                          f].drop([best_feature], axis=1)\n",
    "\n",
    "            # 6, 递归生成树\n",
    "            sub_tree = self.train(sub_train_df)\n",
    "            node_tree.add_node(f, sub_tree)\n",
    "\n",
    "        # pprint.pprint(node_tree.tree)\n",
    "        return node_tree\n",
    "    def fit(self, train_data):\n",
    "        self._tree = self.train(train_data)\n",
    "        return self._tree\n",
    "    def predict(self, X_test):\n",
    "        return self._tree.predict(X_test)"
   ]
  },
  {
   "cell_type": "code",
   "execution_count": 39,
   "id": "64baa38b",
   "metadata": {},
   "outputs": [
    {
     "data": {
      "text/plain": [
       "{'label:': None, 'feature': None, 'tree': {'否': {'label:': None, 'feature': None, 'tree': {'否': {'label:': '否', 'feature': None, 'tree': {}}, '是': {'label:': '是', 'feature': None, 'tree': {}}}}, '是': {'label:': '是', 'feature': None, 'tree': {}}}}"
      ]
     },
     "execution_count": 39,
     "metadata": {},
     "output_type": "execute_result"
    }
   ],
   "source": [
    "\n",
    "dt = D_Tree()\n",
    "tree = dt.fit(train_data)\n",
    "\n",
    "tree\n",
    "\n"
   ]
  },
  {
   "cell_type": "code",
   "execution_count": 116,
   "id": "7eb09e57",
   "metadata": {},
   "outputs": [
    {
     "data": {
      "text/plain": [
       "{'feature': 0,\n",
       " 'value': 5,\n",
       " 'left': {'feature': 0,\n",
       "  'value': 3,\n",
       "  'left': {'feature': 0,\n",
       "   'value': 1,\n",
       "   'left': 4.5,\n",
       "   'right': {'feature': 0, 'value': 2, 'left': 4.75, 'right': 4.91}},\n",
       "  'right': {'feature': 0, 'value': 4, 'left': 5.34, 'right': 5.8}},\n",
       " 'right': {'feature': 0,\n",
       "  'value': 7,\n",
       "  'left': {'feature': 0, 'value': 6, 'left': 7.05, 'right': 7.9},\n",
       "  'right': {'feature': 0,\n",
       "   'value': 8,\n",
       "   'left': 8.23,\n",
       "   'right': {'feature': 0, 'value': 9, 'left': 8.7, 'right': 9.0}}}}"
      ]
     },
     "execution_count": 116,
     "metadata": {},
     "output_type": "execute_result"
    }
   ],
   "source": [
    "import numpy as np\n",
    "\n",
    "\n",
    "class LeastSqRTree:\n",
    "    def __init__(self, train_X, y, epsilon):\n",
    "        # 训练集特征值\n",
    "        self.x = train_X\n",
    "        # 类别\n",
    "        self.y = y\n",
    "        # 特征总数\n",
    "        self.feature_count = train_X.shape[1]\n",
    "        # 损失阈值\n",
    "        self.epsilon = epsilon\n",
    "        # 回归树\n",
    "        self.tree = None\n",
    "\n",
    "    def _fit(self, x, y, feature_count, epsilon):\n",
    "        # 选择最优切分点变量j与切分点s\n",
    "        (j, s, minval, c1, c2) = self._divide(x, y, feature_count)\n",
    "        # 初始化树\n",
    "        tree = {\"feature\": j, \"value\": x[s, j], \"left\": None, \"right\": None}\n",
    "        if minval.any() < self.epsilon or len(y[np.where(x[:, j] <= x[s, j])]) <= 1:\n",
    "            tree[\"left\"] = c1\n",
    "        else:\n",
    "            tree[\"left\"] = self._fit(x[np.where(x[:, j] <= x[s, j])],\n",
    "                                     y[np.where(x[:, j] <= x[s, j])],\n",
    "                                     self.feature_count, self.epsilon)\n",
    "        if minval.any() < self.epsilon or len(y[np.where(x[:, j] > s)]) <= 1:\n",
    "            tree[\"right\"] = c2\n",
    "        else:\n",
    "            tree[\"right\"] = self._fit(x[np.where(x[:, j] > x[s, j])],\n",
    "                                      y[np.where(x[:, j] > x[s, j])],\n",
    "                                      self.feature_count, self.epsilon)\n",
    "        return tree\n",
    "\n",
    "    def fit(self):\n",
    "        self.tree = self._fit(self.x, self.y, self.feature_count, self.epsilon)\n",
    "\n",
    "    @staticmethod\n",
    "    def _divide(x, y, feature_count):\n",
    "        # 初始化损失误差\n",
    "        cost = np.zeros((feature_count, len(x)))\n",
    "        # 公式5.21\n",
    "        for i in range(feature_count):\n",
    "            for k in range(len(x)):\n",
    "                # k行i列的特征值\n",
    "                value = x[k, i]\n",
    "                y1 = y[np.where(x[:, i] <= value)]\n",
    "                c1 = np.mean(y1)\n",
    "                y2 = y[np.where(x[:, i] > value)]\n",
    "                c2 = np.mean(y2)\n",
    "                y1[:] = y1[:] - c1\n",
    "                y2[:] = y2[:] - c2\n",
    "                cost[i, k] = np.sum(y1 * y1) + np.sum(y2 * y2)\n",
    "        # 选取最优损失误差点\n",
    "        cost_index = np.where(cost == np.min(cost))\n",
    "        # 选取第几个特征值\n",
    "        j = cost_index[0][0]\n",
    "        # 选取特征值的切分点\n",
    "        s = cost_index[1][0]\n",
    "        # 求两个区域的均值c1,c2\n",
    "        c1 = np.mean(y[np.where(x[:, j] <= x[s, j])])\n",
    "        c2 = np.mean(y[np.where(x[:, j] > x[s, j])])\n",
    "        return j, s, cost[cost_index], c1, c2\n",
    "\n",
    "train_X = np.array([[1, 2, 3, 4, 5, 6, 7, 8, 9, 10],[1,2,4,6,7,8,33,45,5,5]]).T\n",
    "y = np.array([4.50, 4.75, 4.91, 5.34, 5.80, 7.05, 7.90, 8.23, 8.70, 9.00])\n",
    "\n",
    "model_tree = LeastSqRTree(train_X, y, .2)\n",
    "model_tree.fit()\n",
    "model_tree.tree\n",
    "\n"
   ]
  },
  {
   "cell_type": "code",
   "execution_count": null,
   "id": "32f43810",
   "metadata": {},
   "outputs": [],
   "source": []
  }
 ],
 "metadata": {
  "kernelspec": {
   "display_name": "py39",
   "language": "python",
   "name": "py39"
  },
  "language_info": {
   "codemirror_mode": {
    "name": "ipython",
    "version": 3
   },
   "file_extension": ".py",
   "mimetype": "text/x-python",
   "name": "python",
   "nbconvert_exporter": "python",
   "pygments_lexer": "ipython3",
   "version": "3.9.18"
  }
 },
 "nbformat": 4,
 "nbformat_minor": 5
}
