{
 "cells": [
  {
   "cell_type": "code",
   "execution_count": 3,
   "id": "7e88dbbc",
   "metadata": {},
   "outputs": [],
   "source": [
    "#k-means\n",
    "from scipy.spatial import distance\n",
    "\n",
    "\n",
    "\n",
    "class K_means:\n",
    "    def __init__(self,k,n = 20):\n",
    "        self.k  = k\n",
    "        self.n = n\n",
    "    def fit(self,x,centers = None):\n",
    "        if centers is None:\n",
    "            idx = np.random.randint(low = 0,high = len(x),size = self.k)\n",
    "            centers = x[idx]\n",
    "            inters = 0\n",
    "        while inters < self.n:\n",
    "            points_set = {key:[] for key in range(self.k)}\n",
    "            for p in x:\n",
    "                nearest_index = np.argmin(distance.cdist([p], centers, 'euclidean'))\n",
    "                points_set[nearest_index].append(p)\n",
    "                \n",
    "            for i_k in self.k:\n",
    "                centers[i_k] =sum( points_set[i_k])/len(points_set[i_k])\n",
    "            inters += 1\n",
    "        return points_set, centers\n",
    "                \n",
    "                \n",
    "        "
   ]
  },
  {
   "cell_type": "code",
   "execution_count": null,
   "id": "9e823c22",
   "metadata": {},
   "outputs": [],
   "source": [
    "#层次聚类"
   ]
  },
  {
   "cell_type": "code",
   "execution_count": 6,
   "id": "b528777e",
   "metadata": {},
   "outputs": [],
   "source": [
    "import numpy as np\n",
    "\n",
    "class HierarchicalClustering:\n",
    "    def __init__(self, n_clusters=2, linkage='single'):\n",
    "        self.n_clusters = n_clusters\n",
    "        self.linkage = linkage\n",
    "\n",
    "    def fit(self, X):\n",
    "        self.X = X\n",
    "        self.n_samples = X.shape[0]\n",
    "        self.clusters = [{i} for i in range(self.n_samples)]\n",
    "\n",
    "        while len(self.clusters) > self.n_clusters:\n",
    "            closest_i, closest_j = self.find_closest_clusters()\n",
    "            self.merge_clusters(closest_i, closest_j)\n",
    "\n",
    "    def find_closest_clusters(self):\n",
    "        closest_distance = float('inf')\n",
    "        closest_i, closest_j = -1, -1\n",
    "        for i in range(len(self.clusters)):\n",
    "            for j in range(i + 1, len(self.clusters)):\n",
    "                distance = self.compute_cluster_distance(self.clusters[i], self.clusters[j])\n",
    "                if distance < closest_distance:\n",
    "                    closest_distance = distance\n",
    "                    closest_i, closest_j = i, j\n",
    "        return closest_i, closest_j\n",
    "\n",
    "    def compute_cluster_distance(self, cluster1, cluster2):\n",
    "        distances = [np.linalg.norm(self.X[i] - self.X[j]) for i in cluster1 for j in cluster2]\n",
    "        if self.linkage == 'single':\n",
    "            return min(distances)\n",
    "        elif self.linkage == 'complete':\n",
    "            return max(distances)\n",
    "        elif self.linkage == 'average':\n",
    "            return np.mean(distances)\n",
    "\n",
    "    def merge_clusters(self, i, j):\n",
    "        self.clusters[i] = self.clusters[i].union(self.clusters[j])\n",
    "        self.clusters.pop(j)\n",
    "\n",
    "    def get_labels(self):\n",
    "        labels = np.empty(self.n_samples, dtype=int)\n",
    "        for label, cluster in enumerate(self.clusters):\n",
    "            for i in cluster:\n",
    "                labels[i] = label\n",
    "        return labels\n"
   ]
  },
  {
   "cell_type": "code",
   "execution_count": 8,
   "id": "0b617e19",
   "metadata": {},
   "outputs": [
    {
     "data": {
      "image/png": "[encoded data removed]",
      "text/plain": [
       "<Figure size 640x480 with 1 Axes>"
      ]
     },
     "metadata": {},
     "output_type": "display_data"
    }
   ],
   "source": [
    "import numpy as np\n",
    "import matplotlib.pyplot as plt\n",
    "from sklearn.datasets import make_blobs\n",
    "\n",
    "\n",
    "# 生成随机数据\n",
    "X, _ = make_blobs(n_samples=20, centers=3, n_features=2, random_state=42)\n",
    "\n",
    "# 执行层次聚类\n",
    "model = HierarchicalClustering(n_clusters=3, linkage='average')\n",
    "model.fit(X)\n",
    "labels = model.get_labels()\n",
    "\n",
    "# 可视化聚类结果\n",
    "plt.scatter(X[:, 0], X[:, 1], c=labels, cmap='viridis')\n",
    "plt.show()\n"
   ]
  }
 ],
 "metadata": {
  "kernelspec": {
   "display_name": "py39",
   "language": "python",
   "name": "py39"
  },
  "language_info": {
   "codemirror_mode": {
    "name": "ipython",
    "version": 3
   },
   "file_extension": ".py",
   "mimetype": "text/x-python",
   "name": "python",
   "nbconvert_exporter": "python",
   "pygments_lexer": "ipython3",
   "version": "3.9.18"
  }
 },
 "nbformat": 4,
 "nbformat_minor": 5
}
