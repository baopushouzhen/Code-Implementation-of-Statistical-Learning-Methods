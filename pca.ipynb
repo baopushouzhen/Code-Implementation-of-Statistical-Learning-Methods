{
 "cells": [
  {
   "cell_type": "code",
   "execution_count": 1,
   "id": "88aa1a53",
   "metadata": {},
   "outputs": [],
   "source": [
    "def pca(X):\n",
    "   \n",
    "    X = (X - X.mean()) / X.std()\n",
    "    \n",
    "    X = np.matrix(X)\n",
    "    cov = (X.T * X) / X.shape[0]\n",
    "   \n",
    "    U, S, V = np.linalg.svd(cov)\n",
    "    \n",
    "    return U, S, V"
   ]
  },
  {
   "cell_type": "code",
   "execution_count": null,
   "id": "ebde705b",
   "metadata": {},
   "outputs": [],
   "source": []
  }
 ],
 "metadata": {
  "kernelspec": {
   "display_name": "py39",
   "language": "python",
   "name": "py39"
  },
  "language_info": {
   "codemirror_mode": {
    "name": "ipython",
    "version": 3
   },
   "file_extension": ".py",
   "mimetype": "text/x-python",
   "name": "python",
   "nbconvert_exporter": "python",
   "pygments_lexer": "ipython3",
   "version": "3.9.18"
  }
 },
 "nbformat": 4,
 "nbformat_minor": 5
}
